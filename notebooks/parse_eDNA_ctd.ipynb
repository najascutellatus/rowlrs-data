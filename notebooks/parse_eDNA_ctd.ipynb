{
 "cells": [
  {
   "cell_type": "code",
   "execution_count": 2,
   "id": "e6a57725-c180-4459-809e-6d3a982a127e",
   "metadata": {},
   "outputs": [],
   "source": [
    "import pandas as pd\n",
    "from pathlib import Path"
   ]
  },
  {
   "cell_type": "code",
   "execution_count": 3,
   "id": "af54b60b-1083-4273-a059-6e29735cc0e0",
   "metadata": {},
   "outputs": [
    {
     "data": {
      "text/plain": [
       "PosixPath('/Users/mikesmith/Documents/github/rowlrs-data/notebooks')"
      ]
     },
     "execution_count": 3,
     "metadata": {},
     "output_type": "execute_result"
    }
   ],
   "source": [
    "cwd = Path.cwd()\n",
    "cwd"
   ]
  },
  {
   "cell_type": "code",
   "execution_count": 4,
   "id": "fd4c89c5-7f31-4e94-a5b2-57bb2d5c058d",
   "metadata": {},
   "outputs": [
    {
     "data": {
      "text/plain": [
       "PosixPath('/Users/mikesmith/Documents/github/rowlrs-data/data/eDNA/profiles_ctd')"
      ]
     },
     "execution_count": 4,
     "metadata": {},
     "output_type": "execute_result"
    }
   ],
   "source": [
    "data_path = cwd.parent / 'data' / 'eDNA' / 'profiles_ctd'\n",
    "data_path"
   ]
  },
  {
   "cell_type": "code",
   "execution_count": 5,
   "id": "d931842b-de98-4073-b667-7744d6b9c85a",
   "metadata": {},
   "outputs": [],
   "source": [
    "file_names = [\n",
    "    \"castaway_raw_example_CC1606011_20200811_122016.csv\", \n",
    "    \"castaway_up_down_example_CC1606011_20200811_122016.csv\", \n",
    "    \"castaway_processed_example_CC1606011_20200811_122016.csv\"\n",
    "]"
   ]
  },
  {
   "cell_type": "code",
   "execution_count": 27,
   "id": "556affe1-bbee-40cd-95a6-28e5cae6d96f",
   "metadata": {},
   "outputs": [
    {
     "name": "stdout",
     "output_type": "stream",
     "text": [
      "/Users/mikesmith/Documents/github/rowlrs-data/data/eDNA/profiles_ctd/castaway_raw_example_CC1606011_20200811_122016.csv\n"
     ]
    }
   ],
   "source": [
    "raw = data_path / file_names[0]\n",
    "print(raw)"
   ]
  },
  {
   "cell_type": "code",
   "execution_count": 78,
   "id": "081e6011",
   "metadata": {},
   "outputs": [
    {
     "data": {
      "text/plain": [
       "False"
      ]
     },
     "execution_count": 78,
     "metadata": {},
     "output_type": "execute_result"
    }
   ],
   "source": []
  },
  {
   "cell_type": "code",
   "execution_count": 80,
   "id": "16527f97",
   "metadata": {},
   "outputs": [],
   "source": [
    "metadata = {}\n",
    "\n",
    "with open(raw) as f:\n",
    "    lines = f.readlines()\n",
    "    \n",
    "for line in lines:\n",
    "    if line.startswith('%'):\n",
    "        # print(line)\n",
    "        parse_line = line.strip('%').strip().split(',')\n",
    "        if len(parse_line) > 1:\n",
    "            metadata[parse_line[0]] = parse_line[1]\n",
    "        \n",
    "\n"
   ]
  },
  {
   "cell_type": "code",
   "execution_count": 81,
   "id": "2e9a7010",
   "metadata": {},
   "outputs": [
    {
     "data": {
      "text/plain": [
       "{'Device': 'CC1606011',\n",
       " 'File name': 'CC1606011_20200811_122016',\n",
       " 'Cast time (UTC)': '2020-08-11 12:20:16',\n",
       " 'Cast time (local)': '2020-08-11 08:20:16',\n",
       " 'Sample type': 'Cast',\n",
       " 'Cast data': 'Raw',\n",
       " 'Location source': 'GPS',\n",
       " 'Default latitude': '32',\n",
       " 'Default altitude': '0',\n",
       " 'Start latitude': '40.4884485',\n",
       " 'Start longitude': '-74.0466102',\n",
       " 'Start altitude': '-23.1299991607666',\n",
       " 'Start GPS horizontal error(Meter)': '4.28000020980835',\n",
       " 'Start GPS vertical error(Meter)': '6.75',\n",
       " 'Start GPS number of satellites': '6',\n",
       " 'End latitude': '40.488527',\n",
       " 'End longitude': '-74.0466998',\n",
       " 'End altitude': '-51.229999542236328',\n",
       " 'End GPS horizontal error(Meter)': '17.930000305175781',\n",
       " 'End GPS vertical error(Meter)': '29.1299991607666',\n",
       " 'End GPS number of satellites': '6',\n",
       " 'Cast duration (Seconds)': '93.4',\n",
       " 'Samples per second': '5',\n",
       " 'Electronics calibration date': '0001-01-01',\n",
       " 'Conductivity calibration date': '2016-02-19',\n",
       " 'Temperature calibration date': '2016-02-17',\n",
       " 'Pressure calibration date': '2016-02-12'}"
      ]
     },
     "execution_count": 81,
     "metadata": {},
     "output_type": "execute_result"
    }
   ],
   "source": [
    "metadata"
   ]
  },
  {
   "cell_type": "code",
   "execution_count": 26,
   "id": "ab985e53",
   "metadata": {},
   "outputs": [
    {
     "data": {
      "text/html": [
       "<div>\n",
       "<style scoped>\n",
       "    .dataframe tbody tr th:only-of-type {\n",
       "        vertical-align: middle;\n",
       "    }\n",
       "\n",
       "    .dataframe tbody tr th {\n",
       "        vertical-align: top;\n",
       "    }\n",
       "\n",
       "    .dataframe thead th {\n",
       "        text-align: right;\n",
       "    }\n",
       "</style>\n",
       "<table border=\"1\" class=\"dataframe\">\n",
       "  <thead>\n",
       "    <tr style=\"text-align: right;\">\n",
       "      <th></th>\n",
       "      <th>Time (Seconds)</th>\n",
       "      <th>Pressure (Decibar)</th>\n",
       "      <th>Temperature (Celsius)</th>\n",
       "      <th>Conductivity (MicroSiemens per Centimeter)</th>\n",
       "    </tr>\n",
       "  </thead>\n",
       "  <tbody>\n",
       "    <tr>\n",
       "      <th>0</th>\n",
       "      <td>36.8</td>\n",
       "      <td>0.000000</td>\n",
       "      <td>26.284374</td>\n",
       "      <td>43.117741</td>\n",
       "    </tr>\n",
       "    <tr>\n",
       "      <th>1</th>\n",
       "      <td>37.0</td>\n",
       "      <td>0.054348</td>\n",
       "      <td>26.284153</td>\n",
       "      <td>30897.562500</td>\n",
       "    </tr>\n",
       "    <tr>\n",
       "      <th>2</th>\n",
       "      <td>37.2</td>\n",
       "      <td>0.156566</td>\n",
       "      <td>26.278503</td>\n",
       "      <td>37508.570312</td>\n",
       "    </tr>\n",
       "    <tr>\n",
       "      <th>3</th>\n",
       "      <td>37.4</td>\n",
       "      <td>0.172620</td>\n",
       "      <td>26.260572</td>\n",
       "      <td>38542.132812</td>\n",
       "    </tr>\n",
       "    <tr>\n",
       "      <th>4</th>\n",
       "      <td>37.6</td>\n",
       "      <td>0.157218</td>\n",
       "      <td>26.242676</td>\n",
       "      <td>39698.691406</td>\n",
       "    </tr>\n",
       "  </tbody>\n",
       "</table>\n",
       "</div>"
      ],
      "text/plain": [
       "   Time (Seconds)  Pressure (Decibar)  Temperature (Celsius)  \\\n",
       "0            36.8            0.000000              26.284374   \n",
       "1            37.0            0.054348              26.284153   \n",
       "2            37.2            0.156566              26.278503   \n",
       "3            37.4            0.172620              26.260572   \n",
       "4            37.6            0.157218              26.242676   \n",
       "\n",
       "   Conductivity (MicroSiemens per Centimeter)  \n",
       "0                                   43.117741  \n",
       "1                                30897.562500  \n",
       "2                                37508.570312  \n",
       "3                                38542.132812  \n",
       "4                                39698.691406  "
      ]
     },
     "execution_count": 26,
     "metadata": {},
     "output_type": "execute_result"
    }
   ],
   "source": [
    "\n",
    "ctd_raw = pd.read_csv(raw, comment=\"%\")\n",
    "ctd_raw.head()"
   ]
  },
  {
   "cell_type": "code",
   "execution_count": 20,
   "id": "81800191",
   "metadata": {},
   "outputs": [
    {
     "data": {
      "text/plain": [
       "{'time': 'seconds',\n",
       " 'pressure': 'decibar',\n",
       " 'temperature': 'celsius',\n",
       " 'conductivity': 'microsiemens'}"
      ]
     },
     "execution_count": 20,
     "metadata": {},
     "output_type": "execute_result"
    }
   ],
   "source": [
    "var_dict = {}\n",
    "\n",
    "for item in ctd_raw.keys():\n",
    "    split_str = item.lower().split()\n",
    "    var_dict[split_str[0]] = split_str[1].strip('(').strip(')')\n",
    "var_dict"
   ]
  },
  {
   "cell_type": "code",
   "execution_count": 23,
   "id": "36da3d7b",
   "metadata": {},
   "outputs": [],
   "source": [
    "ctd_raw.columns = var_dict.keys()"
   ]
  },
  {
   "cell_type": "code",
   "execution_count": 24,
   "id": "c116a606",
   "metadata": {},
   "outputs": [
    {
     "data": {
      "text/html": [
       "<div>\n",
       "<style scoped>\n",
       "    .dataframe tbody tr th:only-of-type {\n",
       "        vertical-align: middle;\n",
       "    }\n",
       "\n",
       "    .dataframe tbody tr th {\n",
       "        vertical-align: top;\n",
       "    }\n",
       "\n",
       "    .dataframe thead th {\n",
       "        text-align: right;\n",
       "    }\n",
       "</style>\n",
       "<table border=\"1\" class=\"dataframe\">\n",
       "  <thead>\n",
       "    <tr style=\"text-align: right;\">\n",
       "      <th></th>\n",
       "      <th>time</th>\n",
       "      <th>pressure</th>\n",
       "      <th>temperature</th>\n",
       "      <th>conductivity</th>\n",
       "    </tr>\n",
       "  </thead>\n",
       "  <tbody>\n",
       "    <tr>\n",
       "      <th>0</th>\n",
       "      <td>36.8</td>\n",
       "      <td>0.000000</td>\n",
       "      <td>26.284374</td>\n",
       "      <td>43.117741</td>\n",
       "    </tr>\n",
       "    <tr>\n",
       "      <th>1</th>\n",
       "      <td>37.0</td>\n",
       "      <td>0.054348</td>\n",
       "      <td>26.284153</td>\n",
       "      <td>30897.562500</td>\n",
       "    </tr>\n",
       "    <tr>\n",
       "      <th>2</th>\n",
       "      <td>37.2</td>\n",
       "      <td>0.156566</td>\n",
       "      <td>26.278503</td>\n",
       "      <td>37508.570312</td>\n",
       "    </tr>\n",
       "    <tr>\n",
       "      <th>3</th>\n",
       "      <td>37.4</td>\n",
       "      <td>0.172620</td>\n",
       "      <td>26.260572</td>\n",
       "      <td>38542.132812</td>\n",
       "    </tr>\n",
       "    <tr>\n",
       "      <th>4</th>\n",
       "      <td>37.6</td>\n",
       "      <td>0.157218</td>\n",
       "      <td>26.242676</td>\n",
       "      <td>39698.691406</td>\n",
       "    </tr>\n",
       "    <tr>\n",
       "      <th>...</th>\n",
       "      <td>...</td>\n",
       "      <td>...</td>\n",
       "      <td>...</td>\n",
       "      <td>...</td>\n",
       "    </tr>\n",
       "    <tr>\n",
       "      <th>279</th>\n",
       "      <td>92.6</td>\n",
       "      <td>-0.001303</td>\n",
       "      <td>25.814730</td>\n",
       "      <td>618.987671</td>\n",
       "    </tr>\n",
       "    <tr>\n",
       "      <th>280</th>\n",
       "      <td>92.8</td>\n",
       "      <td>-0.001320</td>\n",
       "      <td>25.815216</td>\n",
       "      <td>584.700073</td>\n",
       "    </tr>\n",
       "    <tr>\n",
       "      <th>281</th>\n",
       "      <td>93.0</td>\n",
       "      <td>0.000716</td>\n",
       "      <td>25.827135</td>\n",
       "      <td>562.179993</td>\n",
       "    </tr>\n",
       "    <tr>\n",
       "      <th>282</th>\n",
       "      <td>93.2</td>\n",
       "      <td>0.001728</td>\n",
       "      <td>25.830572</td>\n",
       "      <td>544.993408</td>\n",
       "    </tr>\n",
       "    <tr>\n",
       "      <th>283</th>\n",
       "      <td>93.4</td>\n",
       "      <td>0.000000</td>\n",
       "      <td>25.834465</td>\n",
       "      <td>532.234619</td>\n",
       "    </tr>\n",
       "  </tbody>\n",
       "</table>\n",
       "<p>284 rows × 4 columns</p>\n",
       "</div>"
      ],
      "text/plain": [
       "     time  pressure  temperature  conductivity\n",
       "0    36.8  0.000000    26.284374     43.117741\n",
       "1    37.0  0.054348    26.284153  30897.562500\n",
       "2    37.2  0.156566    26.278503  37508.570312\n",
       "3    37.4  0.172620    26.260572  38542.132812\n",
       "4    37.6  0.157218    26.242676  39698.691406\n",
       "..    ...       ...          ...           ...\n",
       "279  92.6 -0.001303    25.814730    618.987671\n",
       "280  92.8 -0.001320    25.815216    584.700073\n",
       "281  93.0  0.000716    25.827135    562.179993\n",
       "282  93.2  0.001728    25.830572    544.993408\n",
       "283  93.4  0.000000    25.834465    532.234619\n",
       "\n",
       "[284 rows x 4 columns]"
      ]
     },
     "execution_count": 24,
     "metadata": {},
     "output_type": "execute_result"
    }
   ],
   "source": [
    "ctd_raw"
   ]
  },
  {
   "cell_type": "code",
   "execution_count": 13,
   "id": "20147732-98e2-424d-bcf0-cb879dc50590",
   "metadata": {},
   "outputs": [
    {
     "data": {
      "text/html": [
       "<div>\n",
       "<style scoped>\n",
       "    .dataframe tbody tr th:only-of-type {\n",
       "        vertical-align: middle;\n",
       "    }\n",
       "\n",
       "    .dataframe tbody tr th {\n",
       "        vertical-align: top;\n",
       "    }\n",
       "\n",
       "    .dataframe thead th {\n",
       "        text-align: right;\n",
       "    }\n",
       "</style>\n",
       "<table border=\"1\" class=\"dataframe\">\n",
       "  <thead>\n",
       "    <tr style=\"text-align: right;\">\n",
       "      <th></th>\n",
       "      <th>Pressure (Decibar)</th>\n",
       "      <th>Depth (Meter)</th>\n",
       "      <th>Temperature (Celsius)</th>\n",
       "      <th>Conductivity (MicroSiemens per Centimeter)</th>\n",
       "      <th>Specific conductance (MicroSiemens per Centimeter)</th>\n",
       "      <th>Salinity (Practical Salinity Scale)</th>\n",
       "      <th>Sound velocity (Meters per Second)</th>\n",
       "      <th>Density (Kilograms per Cubic Meter)</th>\n",
       "    </tr>\n",
       "  </thead>\n",
       "  <tbody>\n",
       "    <tr>\n",
       "      <th>0</th>\n",
       "      <td>0.15</td>\n",
       "      <td>0.150734</td>\n",
       "      <td>26.189845</td>\n",
       "      <td>39720.726880</td>\n",
       "      <td>38797.467242</td>\n",
       "      <td>24.672622</td>\n",
       "      <td>1526.230984</td>\n",
       "      <td>1015.208947</td>\n",
       "    </tr>\n",
       "    <tr>\n",
       "      <th>1</th>\n",
       "      <td>0.45</td>\n",
       "      <td>0.452182</td>\n",
       "      <td>26.169781</td>\n",
       "      <td>40030.718750</td>\n",
       "      <td>39115.585584</td>\n",
       "      <td>24.897154</td>\n",
       "      <td>1526.426252</td>\n",
       "      <td>1015.384733</td>\n",
       "    </tr>\n",
       "    <tr>\n",
       "      <th>2</th>\n",
       "      <td>0.75</td>\n",
       "      <td>0.753603</td>\n",
       "      <td>26.176081</td>\n",
       "      <td>40026.944273</td>\n",
       "      <td>39107.082659</td>\n",
       "      <td>24.891089</td>\n",
       "      <td>1526.440005</td>\n",
       "      <td>1015.379598</td>\n",
       "    </tr>\n",
       "    <tr>\n",
       "      <th>3</th>\n",
       "      <td>1.05</td>\n",
       "      <td>1.055024</td>\n",
       "      <td>26.177109</td>\n",
       "      <td>40025.503906</td>\n",
       "      <td>39104.889737</td>\n",
       "      <td>24.889473</td>\n",
       "      <td>1526.445811</td>\n",
       "      <td>1015.379384</td>\n",
       "    </tr>\n",
       "    <tr>\n",
       "      <th>4</th>\n",
       "      <td>1.35</td>\n",
       "      <td>1.356447</td>\n",
       "      <td>26.177677</td>\n",
       "      <td>40017.507812</td>\n",
       "      <td>39096.643339</td>\n",
       "      <td>24.883580</td>\n",
       "      <td>1526.445968</td>\n",
       "      <td>1015.376099</td>\n",
       "    </tr>\n",
       "  </tbody>\n",
       "</table>\n",
       "</div>"
      ],
      "text/plain": [
       "   Pressure (Decibar)  Depth (Meter)  Temperature (Celsius)  \\\n",
       "0                0.15       0.150734              26.189845   \n",
       "1                0.45       0.452182              26.169781   \n",
       "2                0.75       0.753603              26.176081   \n",
       "3                1.05       1.055024              26.177109   \n",
       "4                1.35       1.356447              26.177677   \n",
       "\n",
       "   Conductivity (MicroSiemens per Centimeter)  \\\n",
       "0                                39720.726880   \n",
       "1                                40030.718750   \n",
       "2                                40026.944273   \n",
       "3                                40025.503906   \n",
       "4                                40017.507812   \n",
       "\n",
       "   Specific conductance (MicroSiemens per Centimeter)  \\\n",
       "0                                       38797.467242    \n",
       "1                                       39115.585584    \n",
       "2                                       39107.082659    \n",
       "3                                       39104.889737    \n",
       "4                                       39096.643339    \n",
       "\n",
       "   Salinity (Practical Salinity Scale)  Sound velocity (Meters per Second)  \\\n",
       "0                            24.672622                         1526.230984   \n",
       "1                            24.897154                         1526.426252   \n",
       "2                            24.891089                         1526.440005   \n",
       "3                            24.889473                         1526.445811   \n",
       "4                            24.883580                         1526.445968   \n",
       "\n",
       "   Density (Kilograms per Cubic Meter)  \n",
       "0                          1015.208947  \n",
       "1                          1015.384733  \n",
       "2                          1015.379598  \n",
       "3                          1015.379384  \n",
       "4                          1015.376099  "
      ]
     },
     "execution_count": 13,
     "metadata": {},
     "output_type": "execute_result"
    }
   ],
   "source": [
    "up_down = data_path / file_names[1]\n",
    "\n",
    "ctd_up_down = pd.read_csv(up_down, comment=\"%\")\n",
    "ctd_up_down.head()"
   ]
  },
  {
   "cell_type": "code",
   "execution_count": 14,
   "id": "6b25899a-5f91-4d65-99ae-ecc55adc2ec8",
   "metadata": {},
   "outputs": [
    {
     "data": {
      "text/html": [
       "<div>\n",
       "<style scoped>\n",
       "    .dataframe tbody tr th:only-of-type {\n",
       "        vertical-align: middle;\n",
       "    }\n",
       "\n",
       "    .dataframe tbody tr th {\n",
       "        vertical-align: top;\n",
       "    }\n",
       "\n",
       "    .dataframe thead th {\n",
       "        text-align: right;\n",
       "    }\n",
       "</style>\n",
       "<table border=\"1\" class=\"dataframe\">\n",
       "  <thead>\n",
       "    <tr style=\"text-align: right;\">\n",
       "      <th></th>\n",
       "      <th>Pressure (Decibar)</th>\n",
       "      <th>Depth (Meter)</th>\n",
       "      <th>Temperature (Celsius)</th>\n",
       "      <th>Conductivity (MicroSiemens per Centimeter)</th>\n",
       "      <th>Specific conductance (MicroSiemens per Centimeter)</th>\n",
       "      <th>Salinity (Practical Salinity Scale)</th>\n",
       "      <th>Sound velocity (Meters per Second)</th>\n",
       "      <th>Density (Kilograms per Cubic Meter)</th>\n",
       "    </tr>\n",
       "  </thead>\n",
       "  <tbody>\n",
       "    <tr>\n",
       "      <th>0</th>\n",
       "      <td>0.15</td>\n",
       "      <td>0.150704</td>\n",
       "      <td>26.156805</td>\n",
       "      <td>40060.55118</td>\n",
       "      <td>39154.66529</td>\n",
       "      <td>24.924813</td>\n",
       "      <td>28.000000</td>\n",
       "      <td>28.000000</td>\n",
       "    </tr>\n",
       "    <tr>\n",
       "      <th>1</th>\n",
       "      <td>0.45</td>\n",
       "      <td>0.452118</td>\n",
       "      <td>26.147978</td>\n",
       "      <td>40061.30715</td>\n",
       "      <td>39162.16079</td>\n",
       "      <td>24.930026</td>\n",
       "      <td>1526.408740</td>\n",
       "      <td>1015.415940</td>\n",
       "    </tr>\n",
       "    <tr>\n",
       "      <th>2</th>\n",
       "      <td>0.75</td>\n",
       "      <td>0.753528</td>\n",
       "      <td>26.139420</td>\n",
       "      <td>40056.22317</td>\n",
       "      <td>39163.74412</td>\n",
       "      <td>24.931062</td>\n",
       "      <td>1526.394301</td>\n",
       "      <td>1015.420591</td>\n",
       "    </tr>\n",
       "    <tr>\n",
       "      <th>3</th>\n",
       "      <td>1.05</td>\n",
       "      <td>1.054937</td>\n",
       "      <td>26.130011</td>\n",
       "      <td>40051.11262</td>\n",
       "      <td>39165.95322</td>\n",
       "      <td>24.932538</td>\n",
       "      <td>1526.378278</td>\n",
       "      <td>1015.425827</td>\n",
       "    </tr>\n",
       "    <tr>\n",
       "      <th>4</th>\n",
       "      <td>1.35</td>\n",
       "      <td>1.356344</td>\n",
       "      <td>26.122368</td>\n",
       "      <td>40045.75554</td>\n",
       "      <td>39166.56981</td>\n",
       "      <td>24.932891</td>\n",
       "      <td>1526.365305</td>\n",
       "      <td>1015.429691</td>\n",
       "    </tr>\n",
       "  </tbody>\n",
       "</table>\n",
       "</div>"
      ],
      "text/plain": [
       "   Pressure (Decibar)  Depth (Meter)  Temperature (Celsius)  \\\n",
       "0                0.15       0.150704              26.156805   \n",
       "1                0.45       0.452118              26.147978   \n",
       "2                0.75       0.753528              26.139420   \n",
       "3                1.05       1.054937              26.130011   \n",
       "4                1.35       1.356344              26.122368   \n",
       "\n",
       "   Conductivity (MicroSiemens per Centimeter)  \\\n",
       "0                                 40060.55118   \n",
       "1                                 40061.30715   \n",
       "2                                 40056.22317   \n",
       "3                                 40051.11262   \n",
       "4                                 40045.75554   \n",
       "\n",
       "   Specific conductance (MicroSiemens per Centimeter)  \\\n",
       "0                                        39154.66529    \n",
       "1                                        39162.16079    \n",
       "2                                        39163.74412    \n",
       "3                                        39165.95322    \n",
       "4                                        39166.56981    \n",
       "\n",
       "   Salinity (Practical Salinity Scale)  Sound velocity (Meters per Second)  \\\n",
       "0                            24.924813                           28.000000   \n",
       "1                            24.930026                         1526.408740   \n",
       "2                            24.931062                         1526.394301   \n",
       "3                            24.932538                         1526.378278   \n",
       "4                            24.932891                         1526.365305   \n",
       "\n",
       "   Density (Kilograms per Cubic Meter)  \n",
       "0                            28.000000  \n",
       "1                          1015.415940  \n",
       "2                          1015.420591  \n",
       "3                          1015.425827  \n",
       "4                          1015.429691  "
      ]
     },
     "execution_count": 14,
     "metadata": {},
     "output_type": "execute_result"
    }
   ],
   "source": [
    "processed = data_path / file_names[2]\n",
    "\n",
    "ctd_processed = pd.read_csv(processed, comment=\"%\")\n",
    "ctd_processed.head()"
   ]
  },
  {
   "cell_type": "code",
   "execution_count": null,
   "id": "6cf84443-222a-4ac4-81f8-937410cde463",
   "metadata": {},
   "outputs": [],
   "source": []
  }
 ],
 "metadata": {
  "kernelspec": {
   "display_name": "Python 3.10.6 ('rowls-data')",
   "language": "python",
   "name": "python3"
  },
  "language_info": {
   "codemirror_mode": {
    "name": "ipython",
    "version": 3
   },
   "file_extension": ".py",
   "mimetype": "text/x-python",
   "name": "python",
   "nbconvert_exporter": "python",
   "pygments_lexer": "ipython3",
   "version": "3.10.6"
  },
  "vscode": {
   "interpreter": {
    "hash": "0f87631897224daa464cbf0fa9af5dbcda8ab31b264c980568d099d3ca7b77ec"
   }
  }
 },
 "nbformat": 4,
 "nbformat_minor": 5
}
